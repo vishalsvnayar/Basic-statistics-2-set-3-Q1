{
 "cells": [
  {
   "cell_type": "markdown",
   "id": "e14f4593",
   "metadata": {},
   "source": [
    "**Q1**.For each of the following statements, indicate whether it is True/False. If false, explain why.\n",
    "\n",
    "I.\tThe sample size of the survey should at least be a fixed percentage of the population size in order to produce representative results.\n",
    "\n",
    "**Ans**:1. `False` \n",
    "\n",
    "II.\tThe sampling frame is a list of every item that appears in a survey sample, including those that did not respond to questions.\n",
    "\n",
    "**Ans**:`False - The sample should contain only those items that have responded because the items with no response adds no value the analysis and just increases the size of data`.\n",
    "\n",
    "\n",
    "III.\tLarger surveys convey a more accurate impression of the population than smaller surveys.\n",
    "\n",
    "**Ans**:`True - More the size of sample, it captures maximum patterns thats helps to build an accurate model`.\n"
   ]
  },
  {
   "cell_type": "code",
   "execution_count": null,
   "id": "50999656",
   "metadata": {},
   "outputs": [],
   "source": []
  }
 ],
 "metadata": {
  "kernelspec": {
   "display_name": "Python 3 (ipykernel)",
   "language": "python",
   "name": "python3"
  },
  "language_info": {
   "codemirror_mode": {
    "name": "ipython",
    "version": 3
   },
   "file_extension": ".py",
   "mimetype": "text/x-python",
   "name": "python",
   "nbconvert_exporter": "python",
   "pygments_lexer": "ipython3",
   "version": "3.9.7"
  }
 },
 "nbformat": 4,
 "nbformat_minor": 5
}
